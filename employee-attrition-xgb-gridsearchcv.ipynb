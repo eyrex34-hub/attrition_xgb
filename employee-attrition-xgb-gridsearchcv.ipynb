{
 "cells": [
  {
   "cell_type": "markdown",
   "id": "f050d9d1",
   "metadata": {
    "papermill": {
     "duration": 0.00538,
     "end_time": "2025-10-13T14:16:22.925001",
     "exception": false,
     "start_time": "2025-10-13T14:16:22.919621",
     "status": "completed"
    },
    "tags": []
   },
   "source": [
    "This notebook is used to predict employee attrition. XGBoostClassifier model is used with hyperparameter tuning with GridSearchCV and RandomizedSearchCV."
   ]
  },
  {
   "cell_type": "code",
   "execution_count": 1,
   "id": "2cde83eb",
   "metadata": {
    "execution": {
     "iopub.execute_input": "2025-10-13T14:16:22.935303Z",
     "iopub.status.busy": "2025-10-13T14:16:22.934822Z",
     "iopub.status.idle": "2025-10-13T14:16:25.791633Z",
     "shell.execute_reply": "2025-10-13T14:16:25.790400Z"
    },
    "papermill": {
     "duration": 2.86537,
     "end_time": "2025-10-13T14:16:25.794617",
     "exception": false,
     "start_time": "2025-10-13T14:16:22.929247",
     "status": "completed"
    },
    "tags": []
   },
   "outputs": [
    {
     "name": "stdout",
     "output_type": "stream",
     "text": [
      "   Age     BusinessTravel  DailyRate              Department  \\\n",
      "0   36  Travel_Frequently        599  Research & Development   \n",
      "1   35      Travel_Rarely        921                   Sales   \n",
      "2   32      Travel_Rarely        718                   Sales   \n",
      "3   38      Travel_Rarely       1488  Research & Development   \n",
      "4   50      Travel_Rarely       1017  Research & Development   \n",
      "\n",
      "   DistanceFromHome  Education EducationField  EmployeeCount  \\\n",
      "0                24          3        Medical              1   \n",
      "1                 8          3          Other              1   \n",
      "2                26          3      Marketing              1   \n",
      "3                 2          3        Medical              1   \n",
      "4                 5          4        Medical              1   \n",
      "\n",
      "   EnvironmentSatisfaction  Gender  ...  StandardHours  StockOptionLevel  \\\n",
      "0                        4    Male  ...             80                 1   \n",
      "1                        1    Male  ...             80                 1   \n",
      "2                        3    Male  ...             80                 2   \n",
      "3                        3  Female  ...             80                 0   \n",
      "4                        2  Female  ...             80                 0   \n",
      "\n",
      "   TotalWorkingYears TrainingTimesLastYear  WorkLifeBalance YearsAtCompany  \\\n",
      "0                 10                     2                3             10   \n",
      "1                  4                     3                3              4   \n",
      "2                  4                     3                3              3   \n",
      "3                 15                     1                1              6   \n",
      "4                 31                     0                3             31   \n",
      "\n",
      "   YearsInCurrentRole  YearsSinceLastPromotion  YearsWithCurrManager Attrition  \n",
      "0                   0                        7                     8         0  \n",
      "1                   2                        0                     3         0  \n",
      "2                   2                        1                     2         0  \n",
      "3                   0                        0                     2         0  \n",
      "4                  14                        4                    10         1  \n",
      "\n",
      "[5 rows x 34 columns]\n"
     ]
    }
   ],
   "source": [
    "import pandas as pd \n",
    "import seaborn as sns\n",
    "import numpy as np\n",
    "import matplotlib.pyplot as plt\n",
    "\n",
    "\n",
    "from warnings import simplefilter\n",
    "import math\n",
    "from pandas_profiling import ProfileReport\n",
    "\n",
    "simplefilter('ignore')\n",
    "\n",
    "train1= pd.read_csv(\"/kaggle/input/playground-series-s3e3/train.csv\")\n",
    "train2 = pd.read_csv(\"/kaggle/input/ibmdata/WA_Fn-UseC_-HR-Employee-Attrition.csv\")\n",
    "\n",
    "set(train1.columns.append(train2.columns)) - set(train1.columns)\n",
    "set(train1.columns.append(train2.columns)) - set(train2.columns)\n",
    "\n",
    "train2.Attrition = train2.Attrition.map({'Yes': 1, 'No': 0})\n",
    "train1 = train1.drop('id', axis = 1)\n",
    "train2 = train2.drop('EmployeeNumber', axis = 1)\n",
    "train = pd.concat([train1, train2])\n",
    "print(train.head())\n",
    "#train.to_csv('HR_Employee_Attrition_Merged.csv', index=False)"
   ]
  },
  {
   "cell_type": "code",
   "execution_count": 2,
   "id": "5ec562c6",
   "metadata": {
    "execution": {
     "iopub.execute_input": "2025-10-13T14:16:25.805754Z",
     "iopub.status.busy": "2025-10-13T14:16:25.804567Z",
     "iopub.status.idle": "2025-10-13T14:16:29.790300Z",
     "shell.execute_reply": "2025-10-13T14:16:29.787719Z"
    },
    "papermill": {
     "duration": 3.996208,
     "end_time": "2025-10-13T14:16:29.795150",
     "exception": false,
     "start_time": "2025-10-13T14:16:25.798942",
     "status": "completed"
    },
    "tags": []
   },
   "outputs": [
    {
     "name": "stdout",
     "output_type": "stream",
     "text": [
      "Attrition Distribution:\n",
      "                0       1\n",
      "Attrition  86.11%  13.89%\n",
      "\n",
      "OverTime vs Attrition (Proportion):\n",
      "Attrition         0         1\n",
      "OverTime                     \n",
      "No         0.904762  0.095238\n",
      "Yes        0.736520  0.263480\n",
      "正在下载 Noto Sans CJK SC 字体...\n",
      "字体下载完成！\n",
      "成功将字体文件 './NotoSansCJKsc-Regular.otf' 添加到 Matplotlib。\n",
      "✅ 验证成功：Matplotlib 已识别 'Noto Sans CJK SC' 字体。\n",
      "Matplotlib 全局字体配置已更新。\n",
      "热图已保存至 'overtime_attrition_heatmap.png'\n"
     ]
    }
   ],
   "source": [
    "# 检查 Attrition 分布\n",
    "print(\"Attrition Distribution:\")\n",
    "print(train['Attrition'].value_counts(normalize=True).map(\"{:.2%}\".format).to_frame().T)\n",
    "\n",
    "# 分析 OverTime 与 Attrition 的关系\n",
    "print(\"\\nOverTime vs Attrition (Proportion):\")\n",
    "crosstab = pd.crosstab(train['OverTime'], train['Attrition'], normalize='index')\n",
    "print(crosstab)\n",
    "\n",
    "import os\n",
    "import matplotlib.pyplot as plt\n",
    "import matplotlib.font_manager as fm\n",
    "from matplotlib import rcParams\n",
    "import seaborn as sns\n",
    "import pandas as pd\n",
    "\n",
    "\n",
    "font_name = \"Noto Sans CJK SC\"\n",
    "font_url = \"https://github.com/googlefonts/noto-cjk/raw/main/Sans/OTF/SimplifiedChinese/NotoSansCJKsc-Regular.otf\"\n",
    "font_path_local = \"./NotoSansCJKsc-Regular.otf\"\n",
    "\n",
    "# 如果字体文件不存在，则下载\n",
    "if not os.path.exists(font_path_local):\n",
    "    print(f\"正在下载 {font_name} 字体...\")\n",
    "    !wget -q -O {font_path_local} {font_url}\n",
    "    print(\"字体下载完成！\")\n",
    "else:\n",
    "    print(f\"{font_name} 字体已存在。\")\n",
    "\n",
    "\n",
    "try:\n",
    "    font_prop = fm.FontProperties(fname=font_path_local)\n",
    "    fm.fontManager.addfont(font_path_local)\n",
    "    print(f\"成功将字体文件 '{font_path_local}' 添加到 Matplotlib。\")\n",
    "    \n",
    "    # 验证字体是否被正确识别\n",
    "    if font_name in [f.name for f in fm.fontManager.ttflist]:\n",
    "        print(f\"Matplotlib 已识别 '{font_name}' 字体。\")\n",
    "    else:\n",
    "        print(f\"Matplotlib 未识别 '{font_name}' 字体。\")\n",
    "\n",
    "except Exception as e:\n",
    "    print(f\"加载字体时出错: {e}\")\n",
    "\n",
    "# --- 3. 全局配置 Matplotlib ---\n",
    "\n",
    "# 设置全局字体为我们刚刚加载的字体\n",
    "rcParams['font.family'] = 'sans-serif'\n",
    "rcParams['font.sans-serif'] = [font_name]  \n",
    "rcParams['axes.unicode_minus'] = False  \n",
    "print(\"Matplotlib 全局字体配置已更新。\")\n",
    "\n",
    "# 创建中文标签的交叉表\n",
    "crosstab_chinese = crosstab.copy()\n",
    "# 重命名索引为中文\n",
    "crosstab_chinese.index = crosstab_chinese.index.map({'Yes': '是', 'No': '否'})\n",
    "    \n",
    "# 绘制交叉表热图\n",
    "fig, ax = plt.subplots(figsize=(6, 4))\n",
    "sns.heatmap(crosstab_chinese, annot=True, fmt='.2%', cmap='Blues', cbar=True, ax=ax)\n",
    "\n",
    "# 使用 FontProperties 设置标题和标签\n",
    "font_prop_title = fm.FontProperties(fname=font_path_local, size=14)\n",
    "font_prop_label = fm.FontProperties(fname=font_path_local, size=12)\n",
    "\n",
    "ax.set_title('加班状态与员工离职的关联分析', fontproperties=font_prop_title, pad=15)\n",
    "ax.set_xlabel('离职（0: 否, 1: 是）', fontproperties=font_prop_label)\n",
    "ax.set_ylabel('是否加班', fontproperties=font_prop_label)\n",
    "\n",
    "# 设置 y 轴刻度标签（确保中文显示）\n",
    "ax.set_yticklabels(ax.get_yticklabels(), fontproperties=font_prop_label, rotation=0)\n",
    "ax.set_xticklabels(ax.get_xticklabels(), fontproperties=font_prop_label, rotation=0)\n",
    "\n",
    "output_image_path = 'overtime_attrition_heatmap.png'\n",
    "plt.savefig(output_image_path, dpi=300, bbox_inches='tight')\n",
    "plt.show()\n",
    "print(f\"热图已保存至 '{output_image_path}'\")\n"
   ]
  },
  {
   "cell_type": "code",
   "execution_count": 3,
   "id": "767abeb3",
   "metadata": {
    "execution": {
     "iopub.execute_input": "2025-10-13T14:16:29.822890Z",
     "iopub.status.busy": "2025-10-13T14:16:29.821383Z",
     "iopub.status.idle": "2025-10-13T14:16:29.844042Z",
     "shell.execute_reply": "2025-10-13T14:16:29.842535Z"
    },
    "papermill": {
     "duration": 0.041285,
     "end_time": "2025-10-13T14:16:29.848347",
     "exception": false,
     "start_time": "2025-10-13T14:16:29.807062",
     "status": "completed"
    },
    "tags": []
   },
   "outputs": [
    {
     "name": "stdout",
     "output_type": "stream",
     "text": [
      "Any missing values? 0\n"
     ]
    }
   ],
   "source": [
    "print('Any missing values?', train.isna().sum().sum())"
   ]
  },
  {
   "cell_type": "code",
   "execution_count": 4,
   "id": "ba097ad4",
   "metadata": {
    "execution": {
     "iopub.execute_input": "2025-10-13T14:16:29.875153Z",
     "iopub.status.busy": "2025-10-13T14:16:29.874186Z",
     "iopub.status.idle": "2025-10-13T14:16:29.899021Z",
     "shell.execute_reply": "2025-10-13T14:16:29.897820Z"
    },
    "papermill": {
     "duration": 0.04129,
     "end_time": "2025-10-13T14:16:29.901488",
     "exception": false,
     "start_time": "2025-10-13T14:16:29.860198",
     "status": "completed"
    },
    "tags": []
   },
   "outputs": [
    {
     "data": {
      "text/plain": [
       "Age                          int64\n",
       "BusinessTravel              object\n",
       "DailyRate                    int64\n",
       "Department                  object\n",
       "DistanceFromHome             int64\n",
       "Education                   object\n",
       "EducationField              object\n",
       "EmployeeCount                int64\n",
       "EnvironmentSatisfaction     object\n",
       "Gender                      object\n",
       "HourlyRate                   int64\n",
       "JobInvolvement              object\n",
       "JobLevel                    object\n",
       "JobRole                     object\n",
       "JobSatisfaction             object\n",
       "MaritalStatus               object\n",
       "MonthlyIncome                int64\n",
       "MonthlyRate                  int64\n",
       "NumCompaniesWorked           int64\n",
       "Over18                      object\n",
       "OverTime                    object\n",
       "PercentSalaryHike            int64\n",
       "PerformanceRating           object\n",
       "RelationshipSatisfaction    object\n",
       "StandardHours                int64\n",
       "StockOptionLevel            object\n",
       "TotalWorkingYears            int64\n",
       "TrainingTimesLastYear        int64\n",
       "WorkLifeBalance             object\n",
       "YearsAtCompany               int64\n",
       "YearsInCurrentRole           int64\n",
       "YearsSinceLastPromotion      int64\n",
       "YearsWithCurrManager         int64\n",
       "Attrition                    int64\n",
       "dtype: object"
      ]
     },
     "execution_count": 4,
     "metadata": {},
     "output_type": "execute_result"
    }
   ],
   "source": [
    "# using dictionary to convert specific columns, prepare for modeling\n",
    "\n",
    "convert_dict = {'Education': object,\n",
    "                'EnvironmentSatisfaction': object,\n",
    "                'JobInvolvement':object,\n",
    "                'JobLevel':object,\n",
    "                'JobSatisfaction':object,\n",
    "                'PerformanceRating':object,\n",
    "                'RelationshipSatisfaction':object,\n",
    "                'StockOptionLevel':object,\n",
    "                'WorkLifeBalance':object,             \n",
    "                }\n",
    " \n",
    "train = train.astype(convert_dict)\n",
    "train.dtypes\n",
    "\n"
   ]
  },
  {
   "cell_type": "code",
   "execution_count": 5,
   "id": "0ef762a9",
   "metadata": {
    "execution": {
     "iopub.execute_input": "2025-10-13T14:16:29.912348Z",
     "iopub.status.busy": "2025-10-13T14:16:29.911952Z",
     "iopub.status.idle": "2025-10-13T14:16:30.468953Z",
     "shell.execute_reply": "2025-10-13T14:16:30.467903Z"
    },
    "papermill": {
     "duration": 0.565556,
     "end_time": "2025-10-13T14:16:30.471633",
     "exception": false,
     "start_time": "2025-10-13T14:16:29.906077",
     "status": "completed"
    },
    "tags": []
   },
   "outputs": [],
   "source": [
    "from sklearn.compose import ColumnTransformer\n",
    "\n",
    "from sklearn.impute import SimpleImputer\n",
    "from sklearn.preprocessing import OneHotEncoder\n",
    "\n",
    "from sklearn.metrics import mean_absolute_error,cohen_kappa_score\n",
    "import sklearn\n",
    "import xgboost as xgb\n",
    "from sklearn.model_selection import train_test_split, GridSearchCV\n",
    "from sklearn.pipeline import Pipeline\n",
    "\n",
    "\n",
    "# target\n",
    "y = train.Attrition\n",
    "\n",
    "#features\n",
    "# Select columns corresponding to features\n",
    "X_full= train.drop(['Attrition'],axis=1)"
   ]
  },
  {
   "cell_type": "code",
   "execution_count": 6,
   "id": "614c0c54",
   "metadata": {
    "execution": {
     "iopub.execute_input": "2025-10-13T14:16:30.483145Z",
     "iopub.status.busy": "2025-10-13T14:16:30.482269Z",
     "iopub.status.idle": "2025-10-13T14:16:30.504124Z",
     "shell.execute_reply": "2025-10-13T14:16:30.503099Z"
    },
    "papermill": {
     "duration": 0.030578,
     "end_time": "2025-10-13T14:16:30.506925",
     "exception": false,
     "start_time": "2025-10-13T14:16:30.476347",
     "status": "completed"
    },
    "tags": []
   },
   "outputs": [],
   "source": [
    "# \"Cardinality\" means the number of unique values in a column\n",
    "# Select categorical columns with relatively low cardinality (convenient but arbitrary)\n",
    "categorical_cols = [cname for cname in X_full.columns if\n",
    "                    X_full[cname].nunique() < 10 and \n",
    "                    X_full[cname].dtype == \"object\"]\n",
    "\n",
    "# Select numerical columns\n",
    "numerical_cols = [cname for cname in X_full.columns if \n",
    "                X_full[cname].dtype in ['int64', 'float64']]\n",
    "\n",
    "# Keep selected columns only\n",
    "my_cols = categorical_cols + numerical_cols\n",
    "X = X_full[my_cols].copy()\n",
    "\n",
    "# 划分训练集和验证集\n",
    "X_train, X_valid, y_train, y_valid = train_test_split(X, y, test_size=0.3, random_state=8)"
   ]
  },
  {
   "cell_type": "code",
   "execution_count": 7,
   "id": "891efc9f",
   "metadata": {
    "execution": {
     "iopub.execute_input": "2025-10-13T14:16:30.518177Z",
     "iopub.status.busy": "2025-10-13T14:16:30.517763Z",
     "iopub.status.idle": "2025-10-13T14:16:30.524984Z",
     "shell.execute_reply": "2025-10-13T14:16:30.523770Z"
    },
    "papermill": {
     "duration": 0.015774,
     "end_time": "2025-10-13T14:16:30.527658",
     "exception": false,
     "start_time": "2025-10-13T14:16:30.511884",
     "status": "completed"
    },
    "tags": []
   },
   "outputs": [],
   "source": [
    "# Preprocessing for numerical data\n",
    "numerical_transformer = SimpleImputer(strategy='constant')\n",
    "\n",
    "# Preprocessing for categorical data\n",
    "categorical_transformer = Pipeline(steps=[\n",
    "    ('imputer', SimpleImputer(strategy='most_frequent')),\n",
    "    ('onehot', OneHotEncoder(handle_unknown='ignore'))\n",
    "])\n",
    "\n",
    "# Bundle preprocessing for numerical and categorical data\n",
    "preprocessor = ColumnTransformer(\n",
    "    transformers=[\n",
    "        ('num', numerical_transformer, numerical_cols),\n",
    "        ('cat', categorical_transformer, categorical_cols)\n",
    "    ])\n",
    "\n"
   ]
  },
  {
   "cell_type": "code",
   "execution_count": 8,
   "id": "5463de94",
   "metadata": {
    "execution": {
     "iopub.execute_input": "2025-10-13T14:16:30.539309Z",
     "iopub.status.busy": "2025-10-13T14:16:30.538261Z",
     "iopub.status.idle": "2025-10-13T14:16:30.549047Z",
     "shell.execute_reply": "2025-10-13T14:16:30.547920Z"
    },
    "papermill": {
     "duration": 0.01923,
     "end_time": "2025-10-13T14:16:30.551534",
     "exception": false,
     "start_time": "2025-10-13T14:16:30.532304",
     "status": "completed"
    },
    "tags": []
   },
   "outputs": [],
   "source": [
    "# setup for model training \n",
    "\n",
    "X_train, X_valid, y_train, y_valid = train_test_split(X, y, test_size=0.3, random_state=8)\n",
    "\n",
    "model = xgb.XGBClassifier(random_state = 1)\n",
    "\n",
    "pipeline = Pipeline([\n",
    "    ('preprocessor', preprocessor),  \n",
    "    ('model', model)\n",
    "])\n",
    "\n",
    "param_grid = {\n",
    "    'model__max_depth': [2, 3, 5, 7, 10],\n",
    "    'model__n_estimators': [10, 100, 500],\n",
    "    'model__learning_rate': [0.01, 0.03, 0.05, 0.1]\n",
    "}\n",
    "\n"
   ]
  },
  {
   "cell_type": "code",
   "execution_count": 9,
   "id": "78d61fe3",
   "metadata": {
    "execution": {
     "iopub.execute_input": "2025-10-13T14:16:30.562251Z",
     "iopub.status.busy": "2025-10-13T14:16:30.561838Z",
     "iopub.status.idle": "2025-10-13T14:20:47.861180Z",
     "shell.execute_reply": "2025-10-13T14:20:47.859828Z"
    },
    "papermill": {
     "duration": 257.311823,
     "end_time": "2025-10-13T14:20:47.867869",
     "exception": false,
     "start_time": "2025-10-13T14:16:30.556046",
     "status": "completed"
    },
    "tags": []
   },
   "outputs": [
    {
     "data": {
      "text/plain": [
       "GridSearchCV(cv=5,\n",
       "             estimator=Pipeline(steps=[('preprocessor',\n",
       "                                        ColumnTransformer(transformers=[('num',\n",
       "                                                                         SimpleImputer(strategy='constant'),\n",
       "                                                                         ['Age',\n",
       "                                                                          'DailyRate',\n",
       "                                                                          'DistanceFromHome',\n",
       "                                                                          'EmployeeCount',\n",
       "                                                                          'HourlyRate',\n",
       "                                                                          'MonthlyIncome',\n",
       "                                                                          'MonthlyRate',\n",
       "                                                                          'NumCompaniesWorked',\n",
       "                                                                          'PercentSalaryHike',\n",
       "                                                                          'StandardHours',\n",
       "                                                                          'TotalWorkingYears',\n",
       "                                                                          'TrainingTimesLastYear',\n",
       "                                                                          'YearsAtCompany',\n",
       "                                                                          '...\n",
       "                                                      max_depth=None,\n",
       "                                                      max_leaves=None,\n",
       "                                                      min_child_weight=None,\n",
       "                                                      missing=nan,\n",
       "                                                      monotone_constraints=None,\n",
       "                                                      n_estimators=100,\n",
       "                                                      n_jobs=None,\n",
       "                                                      num_parallel_tree=None,\n",
       "                                                      predictor=None,\n",
       "                                                      random_state=1,\n",
       "                                                      reg_alpha=None,\n",
       "                                                      reg_lambda=None, ...))]),\n",
       "             n_jobs=-1,\n",
       "             param_grid={'model__learning_rate': [0.01, 0.03, 0.05, 0.1],\n",
       "                         'model__max_depth': [2, 3, 5, 7, 10],\n",
       "                         'model__n_estimators': [10, 100, 500]},\n",
       "             scoring='roc_auc')"
      ]
     },
     "execution_count": 9,
     "metadata": {},
     "output_type": "execute_result"
    }
   ],
   "source": [
    "# GridSearchCV\n",
    "grid = GridSearchCV(pipeline, param_grid, cv=5, n_jobs=-1, scoring='roc_auc')\n",
    "\n",
    "grid.fit(X_train, y_train)"
   ]
  },
  {
   "cell_type": "code",
   "execution_count": 10,
   "id": "072a95c1",
   "metadata": {
    "execution": {
     "iopub.execute_input": "2025-10-13T14:20:47.879287Z",
     "iopub.status.busy": "2025-10-13T14:20:47.878850Z",
     "iopub.status.idle": "2025-10-13T14:20:59.894802Z",
     "shell.execute_reply": "2025-10-13T14:20:59.893163Z"
    },
    "papermill": {
     "duration": 12.025023,
     "end_time": "2025-10-13T14:20:59.897551",
     "exception": false,
     "start_time": "2025-10-13T14:20:47.872528",
     "status": "completed"
    },
    "tags": []
   },
   "outputs": [
    {
     "name": "stdout",
     "output_type": "stream",
     "text": [
      "Requirement already satisfied: shap in /opt/conda/lib/python3.7/site-packages (0.41.0)\r\n",
      "Requirement already satisfied: tqdm>4.25.0 in /opt/conda/lib/python3.7/site-packages (from shap) (4.64.0)\r\n",
      "Requirement already satisfied: packaging>20.9 in /opt/conda/lib/python3.7/site-packages (from shap) (23.0)\r\n",
      "Requirement already satisfied: pandas in /opt/conda/lib/python3.7/site-packages (from shap) (1.3.5)\r\n",
      "Requirement already satisfied: cloudpickle in /opt/conda/lib/python3.7/site-packages (from shap) (2.1.0)\r\n",
      "Requirement already satisfied: numpy in /opt/conda/lib/python3.7/site-packages (from shap) (1.21.6)\r\n",
      "Requirement already satisfied: scipy in /opt/conda/lib/python3.7/site-packages (from shap) (1.7.3)\r\n",
      "Requirement already satisfied: scikit-learn in /opt/conda/lib/python3.7/site-packages (from shap) (1.0.2)\r\n",
      "Requirement already satisfied: slicer==0.0.7 in /opt/conda/lib/python3.7/site-packages (from shap) (0.0.7)\r\n",
      "Requirement already satisfied: numba in /opt/conda/lib/python3.7/site-packages (from shap) (0.55.2)\r\n",
      "Requirement already satisfied: llvmlite<0.39,>=0.38.0rc1 in /opt/conda/lib/python3.7/site-packages (from numba->shap) (0.38.1)\r\n",
      "Requirement already satisfied: setuptools in /opt/conda/lib/python3.7/site-packages (from numba->shap) (59.8.0)\r\n",
      "Requirement already satisfied: python-dateutil>=2.7.3 in /opt/conda/lib/python3.7/site-packages (from pandas->shap) (2.8.2)\r\n",
      "Requirement already satisfied: pytz>=2017.3 in /opt/conda/lib/python3.7/site-packages (from pandas->shap) (2022.1)\r\n",
      "Requirement already satisfied: joblib>=0.11 in /opt/conda/lib/python3.7/site-packages (from scikit-learn->shap) (1.0.1)\r\n",
      "Requirement already satisfied: threadpoolctl>=2.0.0 in /opt/conda/lib/python3.7/site-packages (from scikit-learn->shap) (3.1.0)\r\n",
      "Requirement already satisfied: six>=1.5 in /opt/conda/lib/python3.7/site-packages (from python-dateutil>=2.7.3->pandas->shap) (1.15.0)\r\n",
      "\u001B[33mWARNING: Running pip as the 'root' user can result in broken permissions and conflicting behaviour with the system package manager. It is recommended to use a virtual environment instead: https://pip.pypa.io/warnings/venv\u001B[0m\u001B[33m\r\n",
      "\u001B[0m"
     ]
    }
   ],
   "source": [
    "!pip install shap"
   ]
  },
  {
   "cell_type": "code",
   "execution_count": 11,
   "id": "4dff4a41",
   "metadata": {
    "execution": {
     "iopub.execute_input": "2025-10-13T14:20:59.910147Z",
     "iopub.status.busy": "2025-10-13T14:20:59.909297Z",
     "iopub.status.idle": "2025-10-13T14:21:03.360397Z",
     "shell.execute_reply": "2025-10-13T14:21:03.359112Z"
    },
    "papermill": {
     "duration": 3.460653,
     "end_time": "2025-10-13T14:21:03.363276",
     "exception": false,
     "start_time": "2025-10-13T14:20:59.902623",
     "status": "completed"
    },
    "tags": []
   },
   "outputs": [
    {
     "name": "stdout",
     "output_type": "stream",
     "text": [
      "Matplotlib 全局字体配置已更新。\n",
      "SHAP 摘要图已保存至 'shap_summary_plot_top10.png'\n",
      "SHAP feature importance saved to 'shap_feature_importance.csv'\n"
     ]
    }
   ],
   "source": [
    "# 导入 SHAP\n",
    "import shap\n",
    "\n",
    "# 获取最佳模型\n",
    "best_model = grid.best_estimator_\n",
    "\n",
    "# 对验证集进行预处理\n",
    "X_valid_transformed = best_model.named_steps['preprocessor'].transform(X_valid)\n",
    "\n",
    "# 创建 SHAP 解释器\n",
    "explainer = shap.TreeExplainer(best_model.named_steps['model'])\n",
    "\n",
    "# 计算验证集的 SHAP 值\n",
    "shap_values = explainer.shap_values(X_valid_transformed)\n",
    "feature_names = numerical_cols + list(best_model.named_steps['preprocessor'].named_transformers_['cat']['onehot'].get_feature_names_out(categorical_cols))\n",
    "\n",
    "# 设置全局字体为我们刚刚加载的字体\n",
    "rcParams['font.family'] = 'sans-serif'\n",
    "rcParams['font.sans-serif'] = [font_name]  \n",
    "rcParams['axes.unicode_minus'] = False  \n",
    "print(\"Matplotlib 全局字体配置已更新。\")\n",
    "feature_translation = {\n",
    "    'OverTime_No': '无加班',\n",
    "    'StockOptionLevel_0': '无股票期权',\n",
    "    'NumCompaniesWorked': '曾就职公司数',\n",
    "    'MonthlyIncome': '月收入',\n",
    "    'Age': '年龄',\n",
    "    'DistanceFromHome': '居住地距离',\n",
    "    'BusinessTravel_Travel_Frequently': '商务旅行(频繁)',\n",
    "    'YearsAtCompany': '公司工龄',\n",
    "    'JobSatisfaction_4': '工作满意度(4级)',\n",
    "    'EnvironmentSatisfaction_1': '环境满意度(1级)'\n",
    "}\n",
    "chinese_feature_names = [feature_translation.get(name, name) for name in feature_names]\n",
    "\n",
    "\n",
    "# 绘制 SHAP 摘要图（特征重要性）\n",
    "plt.figure(figsize=(10, 6))\n",
    "shap.summary_plot(shap_values, X_valid_transformed, feature_names=chinese_feature_names, max_display=10, show=False)\n",
    "\n",
    "plt.title('特征重要性 SHAP 摘要图 (前 10 特征)')\n",
    "ax = plt.gca() # 获取主坐标轴\n",
    "ax.set_xlabel('SHAP 值')  # 修改 X 轴标签\n",
    "\n",
    "cbar = None\n",
    "for ax in plt.gcf().axes:\n",
    "    if hasattr(ax, 'get_ylabel') and ax.get_ylabel() == 'Feature value':  # 检测默认的 Colorbar\n",
    "        cbar = ax\n",
    "        break\n",
    "\n",
    "if cbar:\n",
    "    cbar.set_ylabel('特征值', fontsize=12)  # 修改 Colorbar 主标签为中文\n",
    "    cbar.set_yticklabels(['低', '高'])  # 修改刻度标签为“低”和“高”\n",
    "        \n",
    "plt.savefig('shap_summary_plot_top10.png', dpi=300, bbox_inches='tight')\n",
    "plt.show()\n",
    "print(\"SHAP 摘要图已保存至 'shap_summary_plot_top10.png'\")\n",
    "\n",
    "# 保存 SHAP 值到 DataFrame\n",
    "shap_importance = pd.DataFrame({\n",
    "    'Feature': feature_names,\n",
    "    'SHAP Importance': np.abs(shap_values).mean(axis=0)\n",
    "}).sort_values(by='SHAP Importance', ascending=False)\n",
    "\n",
    "# 输出 SHAP 特征重要性到 CSV\n",
    "shap_importance.to_csv('shap_feature_importance.csv', index=False)\n",
    "print(\"SHAP feature importance saved to 'shap_feature_importance.csv'\")"
   ]
  },
  {
   "cell_type": "code",
   "execution_count": 12,
   "id": "a7b7fbc2",
   "metadata": {
    "execution": {
     "iopub.execute_input": "2025-10-13T14:21:03.375564Z",
     "iopub.status.busy": "2025-10-13T14:21:03.375137Z",
     "iopub.status.idle": "2025-10-13T14:21:03.444248Z",
     "shell.execute_reply": "2025-10-13T14:21:03.442734Z"
    },
    "papermill": {
     "duration": 0.078086,
     "end_time": "2025-10-13T14:21:03.446673",
     "exception": false,
     "start_time": "2025-10-13T14:21:03.368587",
     "status": "completed"
    },
    "tags": []
   },
   "outputs": [
    {
     "name": "stdout",
     "output_type": "stream",
     "text": [
      "Best parameters: {'model__learning_rate': 0.1, 'model__max_depth': 2, 'model__n_estimators': 500}\n",
      "AUC: 0.833294\n",
      "AUPR: 0.485554\n",
      "F1 Score: 0.442211\n",
      "MCC: 0.394441\n",
      "Precision: 0.578947\n",
      "Recall: 0.357724\n",
      "Accuracy: 0.882540\n",
      "Evaluation metrics saved to 'evaluation_metrics.csv'\n"
     ]
    }
   ],
   "source": [
    "# 在验证集上预测\n",
    "y_pred = grid.predict(X_valid)\n",
    "y_pred_proba = grid.predict_proba(X_valid)[:, 1]\n",
    "\n",
    "# 计算评估指标\n",
    "from sklearn.metrics import roc_auc_score, average_precision_score, f1_score, matthews_corrcoef, precision_score, recall_score, accuracy_score\n",
    "\n",
    "auc = roc_auc_score(y_valid, y_pred_proba)\n",
    "aupr = average_precision_score(y_valid, y_pred_proba)\n",
    "f1 = f1_score(y_valid, y_pred)\n",
    "mcc = matthews_corrcoef(y_valid, y_pred)\n",
    "precision = precision_score(y_valid, y_pred)\n",
    "recall = recall_score(y_valid, y_pred)\n",
    "accuracy = accuracy_score(y_valid, y_pred)\n",
    "\n",
    "# 打印结果\n",
    "print(f\"Best parameters: {grid.best_params_}\")\n",
    "print(f\"AUC: {auc:.6f}\")\n",
    "print(f\"AUPR: {aupr:.6f}\")\n",
    "print(f\"F1 Score: {f1:.6f}\")\n",
    "print(f\"MCC: {mcc:.6f}\")\n",
    "print(f\"Precision: {precision:.6f}\")\n",
    "print(f\"Recall: {recall:.6f}\")\n",
    "print(f\"Accuracy: {accuracy:.6f}\")\n",
    "\n",
    "# 将评估指标保存到 DataFrame\n",
    "metrics_df = pd.DataFrame({\n",
    "    'Metric': ['AUC', 'AUPR', 'F1 Score', 'MCC', 'Precision', 'Recall', 'Accuracy'],\n",
    "    'Value': [auc, aupr, f1, mcc, precision, recall, accuracy]\n",
    "})\n",
    "\n",
    "# 输出指标到 CSV\n",
    "metrics_df.to_csv('evaluation_metrics.csv', index=False)\n",
    "print(\"Evaluation metrics saved to 'evaluation_metrics.csv'\")"
   ]
  },
  {
   "cell_type": "code",
   "execution_count": 13,
   "id": "31d1f39d",
   "metadata": {
    "execution": {
     "iopub.execute_input": "2025-10-13T14:21:03.460136Z",
     "iopub.status.busy": "2025-10-13T14:21:03.459706Z",
     "iopub.status.idle": "2025-10-13T14:21:04.587451Z",
     "shell.execute_reply": "2025-10-13T14:21:04.585924Z"
    },
    "papermill": {
     "duration": 1.137302,
     "end_time": "2025-10-13T14:21:04.590404",
     "exception": false,
     "start_time": "2025-10-13T14:21:03.453102",
     "status": "completed"
    },
    "tags": []
   },
   "outputs": [
    {
     "name": "stdout",
     "output_type": "stream",
     "text": [
      "Matplotlib 全局字体配置已更新\n",
      "优化后的条形图已保存至 'key_features_barplot_optimized.png'\n"
     ]
    }
   ],
   "source": [
    "# 绘制关键特征的条形图\n",
    "import seaborn as sns\n",
    "import matplotlib.pyplot as plt\n",
    "import matplotlib.font_manager as fm\n",
    "from matplotlib import rcParams\n",
    "\n",
    "font_name = \"Noto Sans CJK SC\"\n",
    "font_path_local = \"./NotoSansCJKsc-Regular.otf\"\n",
    "\n",
    "if not os.path.exists(font_path_local):\n",
    "    print(f\"正在下载 {font_name} 字体...\")\n",
    "    !wget -q -O {font_path_local} {font_url}\n",
    "    print(\"字体下载完成！\")\n",
    "\n",
    "if font_path_local not in [f.fname for f in fm.fontManager.ttflist]:\n",
    "    fm.fontManager.addfont(font_path_local)\n",
    "    print(f\"字体已添加到 Matplotlib\")\n",
    "\n",
    "plt.rcParams['font.family'] = 'sans-serif'\n",
    "plt.rcParams['font.sans-serif'] = [font_name]\n",
    "plt.rcParams['axes.unicode_minus'] = False\n",
    "\n",
    "plt.rcParams.update({'font.size': 15})  \n",
    "print(\"Matplotlib 全局字体配置已更新\")\n",
    "\n",
    "X_full_transformed = pd.DataFrame(\n",
    "    grid.best_estimator_.named_steps['preprocessor'].transform(X),\n",
    "    columns=numerical_cols + list(grid.best_estimator_.named_steps['preprocessor'].named_transformers_['cat']['onehot'].get_feature_names_out(categorical_cols))\n",
    ")\n",
    "X_full_transformed['Attrition'] = y.values\n",
    "\n",
    "key_features = ['JobSatisfaction_4', 'EnvironmentSatisfaction_1', 'OverTime_No']\n",
    "feature_translation = {\n",
    "    'JobSatisfaction_4': '工作满意度4级',\n",
    "    'EnvironmentSatisfaction_1': '环境满意度1级',\n",
    "    'OverTime_No': '不加班'\n",
    "}\n",
    "\n",
    "fig, axes = plt.subplots(1, 3, figsize=(18, 6))\n",
    "\n",
    "for i, feature in enumerate(key_features):\n",
    "    ax = axes[i]\n",
    "    \n",
    "    # 计算均值用于绘图\n",
    "    data_to_plot = X_full_transformed.groupby('Attrition')[feature].mean()\n",
    "    \n",
    "    # 绘制条形图\n",
    "    bars = ax.bar([0, 1], data_to_plot.values, color=['#89CFF0', '#4682B4'], width=0.6)\n",
    "    \n",
    "    # 设置标题和标签\n",
    "    font_prop = fm.FontProperties(fname=font_path_local, size=20)  \n",
    "    ax.set_title(feature_translation[feature] + '与离职的关系', fontproperties=font_prop, pad=10)\n",
    "    \n",
    "    font_prop_label = fm.FontProperties(fname=font_path_local, size=15)  \n",
    "    ax.set_xlabel('离职状态', fontproperties=font_prop_label)\n",
    "    ax.set_ylabel(feature_translation[feature]+'比例', fontproperties=font_prop_label)\n",
    "    \n",
    "    # 设置刻度标签\n",
    "    ax.set_xticks([0, 1])\n",
    "    ax.set_xticklabels(['否', '是'], fontproperties=font_prop_label)\n",
    "    ax.set_yticks([0, 0.5, 1])\n",
    "    ax.set_yticklabels(['0', '0.5', '1'], fontproperties=font_prop_label)\n",
    "    ax.set_ylim(0, 1)\n",
    "    \n",
    "    # 添加百分比标签\n",
    "    for index, value in enumerate(data_to_plot.values):\n",
    "        ax.text(index, value + 0.02, f'{value:.1%}', \n",
    "               ha='center', va='bottom', \n",
    "               fontproperties=font_prop_label)\n",
    "    \n",
    "    ax.spines['top'].set_visible(False)\n",
    "    ax.spines['right'].set_visible(False)\n",
    "    ax.spines['left'].set_visible(True)\n",
    "    ax.spines['bottom'].set_visible(True)\n",
    "    ax.grid(False)  # 关闭所有网格线\n",
    "\n",
    "plt.tight_layout()\n",
    "plt.savefig('key_features_barplot_optimized.png', dpi=300, bbox_inches='tight')\n",
    "plt.show()\n",
    "print(\"优化后的条形图已保存至 'key_features_barplot_optimized.png'\")"
   ]
  }
 ],
 "metadata": {
  "kaggle": {
   "accelerator": "none",
   "dataSources": [
    {
     "databundleVersionId": 4924039,
     "sourceId": 44631,
     "sourceType": "competition"
    },
    {
     "datasetId": 8477870,
     "sourceId": 13364841,
     "sourceType": "datasetVersion"
    }
   ],
   "dockerImageVersionId": 30380,
   "isGpuEnabled": false,
   "isInternetEnabled": true,
   "language": "python",
   "sourceType": "notebook"
  },
  "kernelspec": {
   "display_name": "Python 3",
   "language": "python",
   "name": "python3"
  },
  "language_info": {
   "codemirror_mode": {
    "name": "ipython",
    "version": 3
   },
   "file_extension": ".py",
   "mimetype": "text/x-python",
   "name": "python",
   "nbconvert_exporter": "python",
   "pygments_lexer": "ipython3",
   "version": "3.7.12"
  },
  "papermill": {
   "default_parameters": {},
   "duration": 293.458347,
   "end_time": "2025-10-13T14:21:07.218738",
   "environment_variables": {},
   "exception": null,
   "input_path": "__notebook__.ipynb",
   "output_path": "__notebook__.ipynb",
   "parameters": {},
   "start_time": "2025-10-13T14:16:13.760391",
   "version": "2.3.4"
  }
 },
 "nbformat": 4,
 "nbformat_minor": 5
}